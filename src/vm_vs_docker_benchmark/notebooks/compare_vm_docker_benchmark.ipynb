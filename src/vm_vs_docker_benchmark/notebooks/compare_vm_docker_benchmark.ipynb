{
 "cells": [
  {
   "cell_type": "code",
   "execution_count": null,
   "id": "73ad21b5",
   "metadata": {
    "vscode": {
     "languageId": "plaintext"
    }
   },
   "outputs": [],
   "source": [
    "import json\n",
    "import pandas as pd\n",
    "import matplotlib.pyplot as plt\n",
    "import seaborn as sns\n",
    "\n",
    "# Cargar archivos JSON de métricas\n",
    "with open(\"../resultados/vm_after_metrics.json\") as f:\n",
    "    vm_data = json.load(f)\n",
    "\n",
    "with open(\"../resultados/docker_after_metrics.json\") as f:\n",
    "    docker_data = json.load(f)\n",
    "\n",
    "# Convertir a DataFrame\n",
    "vm_df = pd.DataFrame(vm_data).T\n",
    "docker_df = pd.DataFrame(docker_data).T\n",
    "\n",
    "vm_df[\"type\"] = \"VM\"\n",
    "docker_df[\"type\"] = \"Docker\"\n",
    "\n",
    "df = pd.concat([vm_df, docker_df]).reset_index().rename(columns={\"index\": \"test\"})\n",
    "\n",
    "# Crear gráficas comparativas\n",
    "plt.figure(figsize=(16, 5))\n",
    "sns.barplot(data=df, x=\"test\", y=\"cpu\", hue=\"type\")\n",
    "plt.title(\"CPU usage comparison\")\n",
    "plt.xticks(rotation=45)\n",
    "plt.ylabel(\"CPU (%)\")\n",
    "plt.show()\n",
    "\n",
    "plt.figure(figsize=(16, 5))\n",
    "sns.barplot(data=df, x=\"test\", y=\"memory\", hue=\"type\")\n",
    "plt.title(\"Memory usage comparison\")\n",
    "plt.xticks(rotation=45)\n",
    "plt.ylabel(\"Memory (MB)\")\n",
    "plt.show()\n",
    "\n",
    "plt.figure(figsize=(16, 5))\n",
    "sns.barplot(data=df, x=\"test\", y=\"time\", hue=\"type\")\n",
    "plt.title(\"Execution time comparison\")\n",
    "plt.xticks(rotation=45)\n",
    "plt.ylabel(\"Time (s)\")\n",
    "plt.show()\n"
   ]
  }
 ],
 "metadata": {
  "language_info": {
   "name": "python"
  }
 },
 "nbformat": 4,
 "nbformat_minor": 5
}
