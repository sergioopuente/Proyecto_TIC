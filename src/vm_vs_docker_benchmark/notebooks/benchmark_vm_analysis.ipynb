{
  "cells": [
    {
      "cell_type": "markdown",
      "metadata": {},
      "source": [
        "# Benchmark VM Analysis\n",
        "Este notebook analiza los resultados de rendimiento de la m\u00e1quina virtual (VM) a partir de los archivos de m\u00e9tricas JSON."
      ]
    },
    {
      "cell_type": "code",
      "execution_count": null,
      "metadata": {},
      "outputs": [],
      "source": [
        "import json\n",
        "import matplotlib.pyplot as plt\n",
        "import pandas as pd\n",
        "\n",
        "# Cargar datos de m\u00e9tricas\n",
        "with open('../results/vm_after_metrics.json') as f:\n",
        "    vm_metrics = json.load(f)\n",
        "\n",
        "# Convertir a DataFrame\n",
        "df = pd.DataFrame(vm_metrics).T\n",
        "df = df.rename_axis('test').reset_index()\n",
        "df"
      ]
    },
    {
      "cell_type": "code",
      "execution_count": null,
      "metadata": {},
      "outputs": [],
      "source": [
        "# Graficar uso de CPU\n",
        "plt.figure(figsize=(10,6))\n",
        "plt.bar(df['test'], df['cpu'], color='skyblue')\n",
        "plt.title('CPU usage per benchmark (VM)')\n",
        "plt.xlabel('Benchmark')\n",
        "plt.ylabel('CPU usage (%)')\n",
        "plt.xticks(rotation=45)\n",
        "plt.tight_layout()\n",
        "plt.show()"
      ]
    },
    {
      "cell_type": "code",
      "execution_count": null,
      "metadata": {},
      "outputs": [],
      "source": [
        "# Graficar memoria usada\n",
        "plt.figure(figsize=(10,6))\n",
        "plt.bar(df['test'], df['memory'], color='lightgreen')\n",
        "plt.title('Memory usage per benchmark (VM)')\n",
        "plt.xlabel('Benchmark')\n",
        "plt.ylabel('Memory usage (MB)')\n",
        "plt.xticks(rotation=45)\n",
        "plt.tight_layout()\n",
        "plt.show()"
      ]
    },
    {
      "cell_type": "code",
      "execution_count": null,
      "metadata": {},
      "outputs": [],
      "source": [
        "# Graficar tiempo de ejecuci\u00f3n\n",
        "plt.figure(figsize=(10,6))\n",
        "plt.bar(df['test'], df['time'], color='salmon')\n",
        "plt.title('Execution time per benchmark (VM)')\n",
        "plt.xlabel('Benchmark')\n",
        "plt.ylabel('Execution time (s)')\n",
        "plt.xticks(rotation=45)\n",
        "plt.tight_layout()\n",
        "plt.show()"
      ]
    }
  ],
  "metadata": {
    "kernelspec": {
      "display_name": "Python 3",
      "language": "python",
      "name": "python3"
    },
    "language_info": {
      "name": "python",
      "version": "3.10"
    }
  },
  "nbformat": 4,
  "nbformat_minor": 2
}