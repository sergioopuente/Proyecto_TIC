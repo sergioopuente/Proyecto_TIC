{
 "cells": [
  {
   "cell_type": "code",
   "execution_count": null,
   "id": "0a4ec93d",
   "metadata": {
    "vscode": {
     "languageId": "plaintext"
    }
   },
   "outputs": [],
   "source": [
    "import json\n",
    "import matplotlib.pyplot as plt\n",
    "\n",
    "# Cargar los datos desde el archivo de resultados de Docker\n",
    "with open('../results/docker_after_metrics.json') as f:\n",
    "    data = json.load(f)\n",
    "\n",
    "# Extraer los nombres de las pruebas y sus métricas\n",
    "tests = list(data.keys())\n",
    "cpu = [data[test]['cpu'] for test in tests]\n",
    "memory = [data[test]['memory'] for test in tests]\n",
    "time = [data[test]['time'] for test in tests]\n",
    "\n",
    "# Gráfico de CPU\n",
    "plt.figure(figsize=(10,5))\n",
    "plt.bar(tests, cpu, color='skyblue')\n",
    "plt.xticks(rotation=45, ha='right')\n",
    "plt.title('Uso de CPU en pruebas Docker')\n",
    "plt.ylabel('% CPU')\n",
    "plt.tight_layout()\n",
    "plt.show()\n",
    "\n",
    "# Gráfico de memoria\n",
    "plt.figure(figsize=(10,5))\n",
    "plt.bar(tests, memory, color='lightgreen')\n",
    "plt.xticks(rotation=45, ha='right')\n",
    "plt.title('Uso de Memoria en pruebas Docker')\n",
    "plt.ylabel('MB')\n",
    "plt.tight_layout()\n",
    "plt.show()\n",
    "\n",
    "# Gráfico de tiempo\n",
    "plt.figure(figsize=(10,5))\n",
    "plt.bar(tests, time, color='salmon')\n",
    "plt.xticks(rotation=45, ha='right')\n",
    "plt.title('Tiempo de ejecución en pruebas Docker')\n",
    "plt.ylabel('Segundos')\n",
    "plt.tight_layout()\n",
    "plt.show()\n"
   ]
  }
 ],
 "metadata": {
  "language_info": {
   "name": "python"
  }
 },
 "nbformat": 4,
 "nbformat_minor": 5
}
